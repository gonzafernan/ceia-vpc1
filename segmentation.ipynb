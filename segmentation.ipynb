{
 "cells": [
  {
   "cell_type": "code",
   "execution_count": 4,
   "metadata": {},
   "outputs": [],
   "source": [
    "import cv2\n",
    "import matplotlib.pyplot as plt\n",
    "import numpy as np"
   ]
  },
  {
   "cell_type": "markdown",
   "metadata": {},
   "source": [
    "## Histogramas\n",
    "1. Leer las imágenes en escala de grises con OpenCV y visualizarlas.\n",
    "2. Elegir el número de bins que se crea conveniente y grafique su histograma, compare los histogramas entre sí."
   ]
  },
  {
   "cell_type": "code",
   "execution_count": 5,
   "metadata": {},
   "outputs": [],
   "source": [
    "IMAGE_ROOT_PATH = \"imgs/\"\n",
    "IMAGES_FILENAMES = [\"img1_tp.png\", \"img2_tp.png\"]"
   ]
  },
  {
   "cell_type": "code",
   "execution_count": null,
   "metadata": {},
   "outputs": [],
   "source": [
    "fig, axs = plt.subplots(nrows=2, ncols=len(IMAGES_FILENAMES))\n",
    "for ax_img, ax_hist, img_file in zip(axs[:][0], axs[:][1], IMAGES_FILENAMES):\n",
    "    img = cv2.imread(IMAGE_ROOT_PATH + img_file, cv2.IMREAD_GRAYSCALE)\n",
    "    ax_img.imshow(img, cmap=\"gray\")\n",
    "    ax_img.set_title(img_file)\n",
    "    ax_hist.hist(img.ravel(), 256, [0, 256])"
   ]
  },
  {
   "cell_type": "code",
   "execution_count": null,
   "metadata": {},
   "outputs": [],
   "source": [
    "COLORS = (\"r\", \"g\", \"b\")\n",
    "LABELS = (\"Red channel\", \"Green channel\", \"Blue channel\")\n",
    "fig = plt.figure(layout='constrained', figsize=(15, 7))\n",
    "subfigs = fig.subfigures(nrows=2, ncols=1, wspace=0.07)\n",
    "axs_top = subfigs[0].subplots(nrows=1, ncols=4)\n",
    "subfigs[1].suptitle(\"Color channels histogram\")\n",
    "axs_bot = subfigs[1].subplots(nrows=1, ncols=1)\n",
    "img = cv2.cvtColor(cv2.imread(IMAGE_ROOT_PATH + \"segmentacion.png\"), cv2.COLOR_BGR2RGB)\n",
    "for (i, color), img_chn, label in zip(enumerate(COLORS), cv2.split(img), LABELS):\n",
    "    histr = cv2.calcHist([img], [i], None, [256], [0, 256])\n",
    "    axs_bot.plot(histr, color=color)\n",
    "    axs_bot.set_xlim([0, 256])\n",
    "    axs_top[i].imshow(img_chn, cmap=\"grey\")\n",
    "    axs_top[i].set_title(label)\n",
    "axs_top[3].imshow(img)\n",
    "axs_top[3].set_title(\"Original image\")\n",
    "axs_bot.grid()"
   ]
  }
 ],
 "metadata": {
  "kernelspec": {
   "display_name": ".venv",
   "language": "python",
   "name": "python3"
  },
  "language_info": {
   "codemirror_mode": {
    "name": "ipython",
    "version": 3
   },
   "file_extension": ".py",
   "mimetype": "text/x-python",
   "name": "python",
   "nbconvert_exporter": "python",
   "pygments_lexer": "ipython3",
   "version": "3.12.3"
  }
 },
 "nbformat": 4,
 "nbformat_minor": 2
}

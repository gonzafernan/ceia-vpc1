{
 "cells": [
  {
   "cell_type": "code",
   "execution_count": null,
   "metadata": {},
   "outputs": [],
   "source": [
    "import cv2\n",
    "import matplotlib.pyplot as plt\n",
    "import numpy as np"
   ]
  },
  {
   "cell_type": "markdown",
   "metadata": {},
   "source": [
    "## Histogramas\n",
    "1. Leer las imágenes en escala de grises con OpenCV y visualizarlas.\n",
    "2. Elegir el número de bins que se crea conveniente y grafique su histograma, compare los histogramas entre sí."
   ]
  },
  {
   "cell_type": "code",
   "execution_count": null,
   "metadata": {},
   "outputs": [],
   "source": [
    "IMAGE_ROOT_PATH = \"imgs/\"\n",
    "IMAGES_FILENAMES = [\"img1_tp.png\", \"img2_tp.png\"]"
   ]
  },
  {
   "cell_type": "code",
   "execution_count": null,
   "metadata": {},
   "outputs": [],
   "source": [
    "fig, axs = plt.subplots(nrows=2, ncols=len(IMAGES_FILENAMES))\n",
    "fig.set_size_inches(8, 8)\n",
    "for ax_img, ax_hist, img_file in zip(axs[:][0], axs[:][1], IMAGES_FILENAMES):\n",
    "    img = cv2.imread(IMAGE_ROOT_PATH + img_file, cv2.IMREAD_GRAYSCALE)\n",
    "    ax_img.imshow(img, cmap=\"gray\")\n",
    "    ax_img.set_title(img_file)\n",
    "    ax_hist.hist(img.ravel(), 256, [0, 256])"
   ]
  },
  {
   "cell_type": "markdown",
   "metadata": {},
   "source": [
    "Se puede observar que los histogramas de ambas imágenes son iguales, por lo tanto, las tonalidades de la imágen de la flor (derecha) coinciden con las del gradiente (izquierda). Es decir, si se ordenan los pixeles de negro (0, 0, 0) a blanco (255, 255, 255) en la imagen de la flor se obtiene el gradiente.\n",
    "\n",
    "El histograma es útil como feature si se desea entrenar un modelo de clasificación/detección ya que se puede asociar los distintos picos del mismo a áreas específicas de la imágen."
   ]
  },
  {
   "cell_type": "markdown",
   "metadata": {},
   "source": [
    "### Segmentación utilizando histogramas\n",
    "Previsualización de imágen a analizar."
   ]
  },
  {
   "cell_type": "code",
   "execution_count": null,
   "metadata": {},
   "outputs": [],
   "source": [
    "image = cv2.cvtColor(cv2.imread(IMAGE_ROOT_PATH + \"segmentacion.png\"), cv2.COLOR_BGR2RGB)\n",
    "plt.imshow(image)"
   ]
  },
  {
   "cell_type": "markdown",
   "metadata": {},
   "source": [
    "Análisis de los histogramas para los canales RGB"
   ]
  },
  {
   "cell_type": "code",
   "execution_count": null,
   "metadata": {},
   "outputs": [],
   "source": [
    "COLORS = (\"r\", \"g\", \"b\")\n",
    "fig, axs = plt.subplots(nrows=2, ncols=3)\n",
    "fig.set_size_inches(15, 5)\n",
    "axs[0][0].set_title(\"Red channel\")\n",
    "axs[0][1].set_title(\"Green channel\")\n",
    "axs[0][2].set_title(\"Blue channel\")\n",
    "for i, (color, img_chn) in enumerate(zip(COLORS, cv2.split(img))):\n",
    "    histr = cv2.calcHist([img], [i], None, [256], [0, 256])\n",
    "    axs[1][i].plot(histr, color=color)\n",
    "    axs[1][i].set_xlim([0, 256])\n",
    "    axs[1][i].grid()\n",
    "    axs[0][i].imshow(img_chn, cmap=\"grey\")"
   ]
  },
  {
   "cell_type": "markdown",
   "metadata": {},
   "source": [
    "Segmentación de la imágen en cielo, agua y tierra (rocas)."
   ]
  },
  {
   "cell_type": "code",
   "execution_count": null,
   "metadata": {},
   "outputs": [],
   "source": [
    "fig, axs = plt.subplots(nrows=1, ncols=3)\n",
    "fig.set_size_inches(15, 5)\n",
    "axs[0].set_title(\"Water mask\")\n",
    "axs[1].set_title(\"Sky mask\")\n",
    "axs[2].set_title(\"Earth mask\")\n",
    "\n",
    "img = cv2.cvtColor(cv2.imread(IMAGE_ROOT_PATH + \"segmentacion.png\"), cv2.COLOR_BGR2RGB)\n",
    "img_red, img_green, img_blue = cv2.split(img)\n",
    "\n",
    "sea_fom_mask = (img_green > 200) & (img_red > 200) & (img_blue > 200)\n",
    "mask_earth = (img_green < 50) | (img_blue < 50)\n",
    "mask_sky = (img_blue > 150) & ~sea_fom_mask\n",
    "mask_water = (img_green > 60) & (img_green < 110) & (img_blue > 80) & (img_blue < 120) | sea_fom_mask\n",
    "axs[0].imshow(cv2.bitwise_and(img, img, mask=mask_water.astype(np.uint8) * 255))\n",
    "axs[1].imshow(cv2.bitwise_and(img, img, mask=mask_sky.astype(np.uint8) * 255))\n",
    "axs[2].imshow(cv2.bitwise_and(img, img, mask=mask_earth.astype(np.uint8) * 255))"
   ]
  }
 ],
 "metadata": {
  "kernelspec": {
   "display_name": ".venv",
   "language": "python",
   "name": "python3"
  },
  "language_info": {
   "codemirror_mode": {
    "name": "ipython",
    "version": 3
   },
   "file_extension": ".py",
   "mimetype": "text/x-python",
   "name": "python",
   "nbconvert_exporter": "python",
   "pygments_lexer": "ipython3",
   "version": "3.12.3"
  }
 },
 "nbformat": 4,
 "nbformat_minor": 2
}

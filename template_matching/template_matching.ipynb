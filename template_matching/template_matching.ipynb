{
 "cells": [
  {
   "cell_type": "code",
   "execution_count": null,
   "metadata": {},
   "outputs": [],
   "source": [
    "import cv2\n",
    "import numpy as np\n",
    "import matplotlib.pyplot as plt\n",
    "import os"
   ]
  },
  {
   "cell_type": "markdown",
   "metadata": {},
   "source": [
    "## Template matching\n",
    "Objetivos:\n",
    "1. Obtener una detección del logo en cada imagen sin falsos positivos\n",
    "2. Plantear y validar un algoritmo para múltiples detecciones en la imagen `coca_multi.png` con el mismo template del ítem 1\n",
    "3. Generalizar el algoritmo del ítem 2 para todas las imágenes\n",
    "\n",
    "Visualizar los resultados con bounding boxes en cada imagen mostrando el nivel de confianza de la detección."
   ]
  },
  {
   "cell_type": "markdown",
   "metadata": {},
   "source": [
    "### Template e imagenes a analizar"
   ]
  },
  {
   "cell_type": "code",
   "execution_count": null,
   "metadata": {},
   "outputs": [],
   "source": [
    "TEMPLATE_PATH = \"./template/pattern.png\"\n",
    "IMAGES_PATH = \"./images/\""
   ]
  },
  {
   "cell_type": "code",
   "execution_count": null,
   "metadata": {},
   "outputs": [],
   "source": [
    "template = cv2.imread(TEMPLATE_PATH, cv2.IMREAD_COLOR)\n",
    "plt.imshow(cv2.cvtColor(template, cv2.COLOR_BGR2RGB))"
   ]
  },
  {
   "cell_type": "code",
   "execution_count": null,
   "metadata": {},
   "outputs": [],
   "source": [
    "images = [\n",
    "    cv2.imread(IMAGES_PATH + image_name, cv2.IMREAD_COLOR)\n",
    "    for image_name in os.listdir(path=IMAGES_PATH)\n",
    "]\n",
    "\n",
    "fig, axs = plt.subplots(nrows=1, ncols=len(images))\n",
    "fig.set_size_inches(25, 5)\n",
    "for ax, image in zip(axs, images):\n",
    "    ax.imshow(cv2.cvtColor(image, cv2.COLOR_BGR2RGB))"
   ]
  },
  {
   "cell_type": "markdown",
   "metadata": {},
   "source": [
    "### Aplicación de pirámides en el template"
   ]
  },
  {
   "cell_type": "code",
   "execution_count": null,
   "metadata": {},
   "outputs": [],
   "source": [
    "# Get max width and height of the images to test\n",
    "max_height = max([image.shape[0] for image in images])\n",
    "min_height = min([image.shape[0] for image in images])\n",
    "max_width = max([image.shape[1] for image in images])\n",
    "min_width = min([image.shape[1] for image in images])\n",
    "\n",
    "# over-sampling\n",
    "template_oversapling = [template.copy()]\n",
    "while (template_oversapling[-1].shape[0] < max_height) and (\n",
    "    template_oversapling[-1].shape[1] < max_width\n",
    "):\n",
    "    template_oversapling.append(cv2.pyrUp(template_oversapling[-1]))\n",
    "\n",
    "# sub-sampling\n",
    "template_subsapling = [template.copy()]\n",
    "while (template_subsapling[-1].shape[0] > min_height) and (\n",
    "    template_subsapling[-1].shape[1] > min_width\n",
    "):\n",
    "    template_subsapling.append(cv2.pyrDown(template_subsapling[-1]))\n",
    "\n",
    "# to not repeat the original\n",
    "template_pyramid = template_subsapling + template_oversapling[1:] "
   ]
  },
  {
   "cell_type": "code",
   "execution_count": null,
   "metadata": {},
   "outputs": [],
   "source": [
    "print(\"NUMBER OF TEMPLATES:\", len(template_pyramid))\n",
    "\n",
    "fig, axs = plt.subplots(nrows=1, ncols=len(template_pyramid))\n",
    "fig.set_size_inches(20, 5)\n",
    "for ax, template in zip(axs, template_pyramid):\n",
    "    ax.imshow(cv2.cvtColor(template, cv2.COLOR_BGR2RGB))"
   ]
  },
  {
   "cell_type": "markdown",
   "metadata": {},
   "source": [
    "### Exploración de métricas"
   ]
  },
  {
   "cell_type": "code",
   "execution_count": null,
   "metadata": {},
   "outputs": [],
   "source": [
    "\n",
    "metrics = [\n",
    "    (\"TM_CCOEFF\", cv2.TM_CCOEFF),\n",
    "    (\"TM_CCOEFF_NORMED\", cv2.TM_CCOEFF_NORMED),\n",
    "    (\"TM_CCORR\", cv2.TM_CCORR),\n",
    "    (\"TM_CCORR_NORMED\", cv2.TM_CCORR_NORMED),\n",
    "    (\"TM_SQDIFF\", cv2.TM_SQDIFF),\n",
    "    (\"TM_SQDIFF_NORMED\", cv2.TM_SQDIFF_NORMED),\n",
    "]\n",
    "\n",
    "fig, axs = plt.subplots(nrows=1, ncols=len(metrics))\n",
    "\n",
    "for ax, (metric_name, metric_fn) in zip(axs, metrics):\n",
    "    image = images[0].copy()\n",
    "    match = cv2.matchTemplate(image, template, metric_fn)\n",
    "    min_value, max_value, min_location, max_location = cv2.minMaxLoc(match)\n",
    "    if metric_name in [\"TM_SQDIFF\", \"TM_SQDIFF_NORMED\"]:\n",
    "        top_left = min_location\n",
    "    else:\n",
    "        top_left = max_location\n",
    "    bottom_right = (top_left[0] + template.shape[1], top_left[1] + template.shape[0])\n",
    "\n",
    "    cv2.rectangle(image, top_left, bottom_right, 255, 2)\n",
    "    ax.imshow(cv2.cvtColor(image, cv2.COLOR_BGR2RGB))\n"
   ]
  },
  {
   "cell_type": "markdown",
   "metadata": {},
   "source": [
    "### Resources\n",
    "- [Image Processing in OpenCV: Template matching](https://docs.opencv.org/4.x/d4/dc6/tutorial_py_template_matching.html)\n",
    "- [Image Processing: Image Pyramids](https://docs.opencv.org/4.x/d4/d1f/tutorial_pyramids.html)"
   ]
  }
 ],
 "metadata": {
  "kernelspec": {
   "display_name": ".venv",
   "language": "python",
   "name": "python3"
  },
  "language_info": {
   "codemirror_mode": {
    "name": "ipython",
    "version": 3
   },
   "file_extension": ".py",
   "mimetype": "text/x-python",
   "name": "python",
   "nbconvert_exporter": "python",
   "pygments_lexer": "ipython3",
   "version": "3.12.3"
  }
 },
 "nbformat": 4,
 "nbformat_minor": 2
}

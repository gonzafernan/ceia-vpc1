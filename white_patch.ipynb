{
 "cells": [
  {
   "cell_type": "markdown",
   "metadata": {},
   "source": [
    "# Algoritmo White-Patch"
   ]
  },
  {
   "cell_type": "code",
   "execution_count": 22,
   "metadata": {},
   "outputs": [],
   "source": [
    "import matplotlib.pyplot as plt\n",
    "import matplotlib.image as mpimg"
   ]
  },
  {
   "cell_type": "code",
   "execution_count": 23,
   "metadata": {},
   "outputs": [],
   "source": [
    "TEST_IMAGE_ROOT_PATH = \"imgs/white_patch/\"\n",
    "TEST_IMAGES_FILENAMES = [\"test_blue.png\", \"test_green.png\", \"test_red.png\"]"
   ]
  },
  {
   "cell_type": "code",
   "execution_count": null,
   "metadata": {},
   "outputs": [],
   "source": [
    "fig, axs = plt.subplots(nrows=1, ncols=len(TEST_IMAGES_FILENAMES))\n",
    "fig.set_size_inches(10, 5)\n",
    "for ax, img_file in zip(axs, TEST_IMAGES_FILENAMES):\n",
    "    raw_img = mpimg.imread(TEST_IMAGE_ROOT_PATH + img_file)\n",
    "    ax.imshow(raw_img)\n",
    "    ax.set_title(img_file)"
   ]
  }
 ],
 "metadata": {
  "kernelspec": {
   "display_name": ".venv",
   "language": "python",
   "name": "python3"
  },
  "language_info": {
   "codemirror_mode": {
    "name": "ipython",
    "version": 3
   },
   "file_extension": ".py",
   "mimetype": "text/x-python",
   "name": "python",
   "nbconvert_exporter": "python",
   "pygments_lexer": "ipython3",
   "version": "3.12.3"
  }
 },
 "nbformat": 4,
 "nbformat_minor": 2
}

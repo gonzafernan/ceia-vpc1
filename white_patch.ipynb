{
 "cells": [
  {
   "cell_type": "markdown",
   "metadata": {},
   "source": [
    "# Algoritmo White-Patch"
   ]
  },
  {
   "cell_type": "code",
   "execution_count": 28,
   "metadata": {},
   "outputs": [],
   "source": [
    "import matplotlib.pyplot as plt\n",
    "import matplotlib.image as mpimg\n",
    "import numpy as np"
   ]
  },
  {
   "cell_type": "code",
   "execution_count": 26,
   "metadata": {},
   "outputs": [],
   "source": [
    "TEST_IMAGE_ROOT_PATH = \"imgs/white_patch/\"\n",
    "TEST_IMAGES_FILENAMES = [\"test_blue.png\", \"test_green.png\", \"test_red.png\"]"
   ]
  },
  {
   "cell_type": "code",
   "execution_count": null,
   "metadata": {},
   "outputs": [],
   "source": [
    "fig, axs = plt.subplots(nrows=1, ncols=len(TEST_IMAGES_FILENAMES))\n",
    "fig.set_size_inches(10, 5)\n",
    "for ax, img_file in zip(axs, TEST_IMAGES_FILENAMES):\n",
    "    raw_img = mpimg.imread(TEST_IMAGE_ROOT_PATH + img_file)\n",
    "    ax.imshow(raw_img)\n",
    "    ax.set_title(img_file)"
   ]
  },
  {
   "cell_type": "code",
   "execution_count": 40,
   "metadata": {},
   "outputs": [],
   "source": [
    "def white_patch(image: np.ndarray) -> np.ndarray:\n",
    "    \"\"\"Normalize each color channel with its maximum value\"\"\"\n",
    "    new_img = np.zeros(shape=image.shape)\n",
    "    for color_chn in range(3):\n",
    "        new_img[:, :, color_chn] = image[:, :, color_chn] / image[:, :, color_chn].max()\n",
    "    return new_img"
   ]
  },
  {
   "cell_type": "code",
   "execution_count": null,
   "metadata": {},
   "outputs": [],
   "source": [
    "fig, axs = plt.subplots(nrows=2, ncols=len(TEST_IMAGES_FILENAMES))\n",
    "fig.set_size_inches(10, 3)\n",
    "for ax_raw, ax_wp, img_file in zip(axs[:][0], axs[:][1], TEST_IMAGES_FILENAMES):\n",
    "    raw_img = mpimg.imread(TEST_IMAGE_ROOT_PATH + img_file)\n",
    "    ax_raw.imshow(raw_img)\n",
    "    ax_raw.set_title(img_file)\n",
    "    ax_wp.imshow(white_patch(raw_img))"
   ]
  }
 ],
 "metadata": {
  "kernelspec": {
   "display_name": ".venv",
   "language": "python",
   "name": "python3"
  },
  "language_info": {
   "codemirror_mode": {
    "name": "ipython",
    "version": 3
   },
   "file_extension": ".py",
   "mimetype": "text/x-python",
   "name": "python",
   "nbconvert_exporter": "python",
   "pygments_lexer": "ipython3",
   "version": "3.12.3"
  }
 },
 "nbformat": 4,
 "nbformat_minor": 2
}

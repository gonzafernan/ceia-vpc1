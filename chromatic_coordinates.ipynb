{
 "cells": [
  {
   "cell_type": "markdown",
   "metadata": {},
   "source": [
    "# Coordenadas cromáticas"
   ]
  },
  {
   "cell_type": "code",
   "execution_count": 2,
   "metadata": {},
   "outputs": [],
   "source": [
    "import matplotlib.pyplot as plt\n",
    "import matplotlib.image as mpimg\n",
    "import numpy as np"
   ]
  },
  {
   "cell_type": "code",
   "execution_count": 1,
   "metadata": {},
   "outputs": [],
   "source": [
    "TEST_IMAGE_ROOT_PATH = \"imgs/coord_cromaticas/\"\n",
    "TEST_IMAGES_FILENAMES = [\"CoordCrom_1.png\", \"CoordCrom_2.png\", \"CoordCrom_3.png\"]"
   ]
  },
  {
   "cell_type": "code",
   "execution_count": null,
   "metadata": {},
   "outputs": [],
   "source": [
    "fig, axs = plt.subplots(nrows=1, ncols=len(TEST_IMAGES_FILENAMES))\n",
    "fig.set_size_inches(10, 6)\n",
    "for ax, img_file in zip(axs, TEST_IMAGES_FILENAMES):\n",
    "    raw_img = mpimg.imread(TEST_IMAGE_ROOT_PATH + img_file)\n",
    "    ax.imshow(raw_img)\n",
    "    ax.set_title(img_file)"
   ]
  },
  {
   "cell_type": "code",
   "execution_count": 34,
   "metadata": {},
   "outputs": [],
   "source": [
    "def chromatic_coordinates(image: np.ndarray) -> np.ndarray:\n",
    "    \"\"\"Normalize each color channel the sum of all channels\"\"\"\n",
    "    new_img = np.zeros(shape=image.shape, dtype=float)\n",
    "    intensity = image.astype(float).sum(axis=2) # sum rgb channels (axis 2)\n",
    "    for color_chn in range(3):\n",
    "        np.divide(image[:,:,color_chn], intensity, out=new_img[:,:,color_chn], where=intensity>0)\n",
    "    return new_img"
   ]
  },
  {
   "cell_type": "code",
   "execution_count": null,
   "metadata": {},
   "outputs": [],
   "source": [
    "fig, axs = plt.subplots(nrows=2, ncols=len(TEST_IMAGES_FILENAMES))\n",
    "fig.set_size_inches(10, 6)\n",
    "for ax_raw, ax_cc, img_file in zip(axs[:][0], axs[:][1], TEST_IMAGES_FILENAMES):\n",
    "    raw_img = mpimg.imread(TEST_IMAGE_ROOT_PATH + img_file)[:, :, :3].astype(float)\n",
    "    ax_raw.imshow(raw_img)\n",
    "    ax_raw.set_title(img_file)\n",
    "    ax_cc.imshow(chromatic_coordinates(raw_img))"
   ]
  }
 ],
 "metadata": {
  "kernelspec": {
   "display_name": ".venv",
   "language": "python",
   "name": "python3"
  },
  "language_info": {
   "codemirror_mode": {
    "name": "ipython",
    "version": 3
   },
   "file_extension": ".py",
   "mimetype": "text/x-python",
   "name": "python",
   "nbconvert_exporter": "python",
   "pygments_lexer": "ipython3",
   "version": "3.12.3"
  }
 },
 "nbformat": 4,
 "nbformat_minor": 2
}
